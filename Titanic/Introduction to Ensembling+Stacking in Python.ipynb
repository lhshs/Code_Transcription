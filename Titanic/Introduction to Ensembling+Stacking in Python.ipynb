{
 "cells": [
  {
   "cell_type": "markdown",
   "id": "cd28fc7e",
   "metadata": {},
   "source": [
    "https://www.kaggle.com/code/arthurtok/introduction-to-ensembling-stacking-in-python"
   ]
  },
  {
   "cell_type": "code",
   "execution_count": 3,
   "id": "86501786",
   "metadata": {
    "ExecuteTime": {
     "end_time": "2023-03-25T01:23:15.970523Z",
     "start_time": "2023-03-25T01:23:14.550090Z"
    }
   },
   "outputs": [
    {
     "name": "stdout",
     "output_type": "stream",
     "text": [
      "<module 'numpy' from 'c:\\\\python38-64\\\\lib\\\\site-packages\\\\numpy\\\\__init__.py'>\n"
     ]
    }
   ],
   "source": [
    "import numpy as np\n",
    "print(np)"
   ]
  },
  {
   "cell_type": "code",
   "execution_count": 2,
   "id": "61390f0f",
   "metadata": {
    "ExecuteTime": {
     "end_time": "2023-03-25T01:22:03.731539Z",
     "start_time": "2023-03-25T01:21:58.168577Z"
    }
   },
   "outputs": [
    {
     "name": "stdout",
     "output_type": "stream",
     "text": [
      "Package              Version\n",
      "-------------------- -----------\n",
      "argon2-cffi          21.3.0\n",
      "argon2-cffi-bindings 21.2.0\n",
      "asttokens            2.0.5\n",
      "async-generator      1.10\n",
      "attrs                21.4.0\n",
      "backcall             0.2.0\n",
      "beautifulsoup4       4.11.1\n",
      "bleach               5.0.0\n",
      "certifi              2021.10.8\n",
      "cffi                 1.15.0\n",
      "charset-normalizer   2.0.12\n",
      "colorama             0.4.4\n",
      "cryptography         37.0.1\n",
      "debugpy              1.6.0\n",
      "decorator            5.1.1\n",
      "defusedxml           0.7.1\n",
      "entrypoints          0.4\n",
      "executing            0.8.3\n",
      "fastjsonschema       2.15.3\n",
      "h11                  0.13.0\n",
      "idna                 3.3\n",
      "importlib-resources  5.7.1\n",
      "ipykernel            6.13.0\n",
      "ipython              8.2.0\n",
      "ipython-genutils     0.2.0\n",
      "ipywidgets           7.7.0\n",
      "jedi                 0.18.1\n",
      "Jinja2               3.1.1\n",
      "jsonschema           4.4.0\n",
      "jupyter              1.0.0\n",
      "jupyter-client       7.3.0\n",
      "jupyter-console      6.4.3\n",
      "jupyter-core         4.10.0\n",
      "jupyterlab-pygments  0.2.2\n",
      "jupyterlab-widgets   1.1.0\n",
      "lib                  4.0.0\n",
      "MarkupSafe           2.1.1\n",
      "matplotlib-inline    0.1.3\n",
      "mistune              0.8.4\n",
      "nbclient             0.6.0\n",
      "nbconvert            6.5.0\n",
      "nbformat             5.3.0\n",
      "nest-asyncio         1.5.5\n",
      "notebook             6.4.11\n",
      "numpy                1.22.2\n",
      "outcome              1.1.0\n",
      "packaging            21.3\n",
      "pandas               1.4.1\n",
      "pandocfilters        1.5.0\n",
      "parso                0.8.3\n",
      "pickleshare          0.7.5\n",
      "pip                  22.1.2\n",
      "plotly               5.6.0\n",
      "prometheus-client    0.14.1\n",
      "prompt-toolkit       3.0.29\n",
      "psutil               5.9.0\n",
      "pure-eval            0.2.2\n",
      "pycparser            2.21\n",
      "Pygments             2.12.0\n",
      "PyJWT                2.3.0\n",
      "pyOpenSSL            22.0.0\n",
      "pyparsing            3.0.8\n",
      "pyrsistent           0.18.1\n",
      "PySocks              1.7.1\n",
      "python-dateutil      2.8.2\n",
      "pytz                 2021.3\n",
      "pyupbit              0.2.23\n",
      "pywin32              303\n",
      "pywinpty             2.0.5\n",
      "pyzmq                19.0.2\n",
      "qtconsole            5.3.0\n",
      "QtPy                 2.0.1\n",
      "requests             2.27.1\n",
      "selenium             4.1.3\n",
      "Send2Trash           1.8.0\n",
      "setuptools           49.2.1\n",
      "six                  1.16.0\n",
      "sniffio              1.2.0\n",
      "sortedcontainers     2.4.0\n",
      "soupsieve            2.3.2.post1\n",
      "stack-data           0.2.0\n",
      "tenacity             8.0.1\n",
      "terminado            0.13.3\n",
      "tinycss2             1.1.1\n",
      "tornado              6.1\n",
      "traitlets            5.1.1\n",
      "trio                 0.20.0\n",
      "trio-websocket       0.9.2\n",
      "urllib3              1.26.8\n",
      "wcwidth              0.2.5\n",
      "webencodings         0.5.1\n",
      "websockets           9.1\n",
      "widgetsnbextension   3.6.0\n",
      "wsproto              1.1.0\n",
      "zipp                 3.8.0\n",
      "\n",
      "[notice] A new release of pip available: 22.1.2 -> 23.0.1\n",
      "[notice] To update, run: python.exe -m pip install --upgrade pip\n",
      "Note: you may need to restart the kernel to use updated packages.\n"
     ]
    }
   ],
   "source": [
    "pip list"
   ]
  },
  {
   "cell_type": "code",
   "execution_count": null,
   "id": "b0d88a50",
   "metadata": {},
   "outputs": [],
   "source": []
  }
 ],
 "metadata": {
  "kernelspec": {
   "display_name": "Python 3 (ipykernel)",
   "language": "python",
   "name": "python3"
  },
  "language_info": {
   "codemirror_mode": {
    "name": "ipython",
    "version": 3
   },
   "file_extension": ".py",
   "mimetype": "text/x-python",
   "name": "python",
   "nbconvert_exporter": "python",
   "pygments_lexer": "ipython3",
   "version": "3.8.9"
  }
 },
 "nbformat": 4,
 "nbformat_minor": 5
}
